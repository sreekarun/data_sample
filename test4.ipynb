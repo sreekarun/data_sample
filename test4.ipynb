{
 "cells": [
  {
   "cell_type": "markdown",
   "metadata": {},
   "source": [
    "Import dependencies"
   ]
  },
  {
   "cell_type": "code",
   "execution_count": 4,
   "metadata": {},
   "outputs": [],
   "source": [
    "import pandas as pd\n",
    "import numpy as np\n",
    "import random"
   ]
  },
  {
   "cell_type": "code",
   "execution_count": 5,
   "metadata": {},
   "outputs": [],
   "source": [
    "# Generate a sample dataset for cleaning service bookings\n",
    "np.random.seed(42)"
   ]
  },
  {
   "cell_type": "code",
   "execution_count": 6,
   "metadata": {},
   "outputs": [],
   "source": [
    "# Parameters for the dataset\n",
    "num_records = 1000\n",
    "dates = pd.date_range(start='2023-01-01', end='2024-01-01', freq='D').tolist()\n",
    "services = [\n",
    "    'Standard Cleaning',\n",
    "    'Deep Cleaning',\n",
    "    'Move-in/Move-out Cleaning',\n",
    "    'Post-Event Cleaning'\n",
    "]\n",
    "employees = ['Emp_' + str(i) for i in range(1, 21)]\n",
    "days_of_week = ['Monday', 'Tuesday', 'Wednesday', 'Thursday', 'Friday', 'Saturday', 'Sunday']\n"
   ]
  },
  {
   "cell_type": "code",
   "execution_count": 7,
   "metadata": {},
   "outputs": [],
   "source": [
    "# Generate random data\n",
    "data = {\n",
    "    'BookingID': ['BKG_' + str(i) for i in range(1, num_records + 1)],\n",
    "    'Date': random.choices(dates, k=num_records),\n",
    "    'TimeSlot': random.choices(['Morning', 'Afternoon', 'Evening'], k=num_records),\n",
    "    'ServiceType': random.choices(services, k=num_records),\n",
    "    'EmployeeID': random.choices(employees, k=num_records),\n",
    "    'CustomerID': ['CUST_' + str(i) for i in range(1, num_records + 1)],\n",
    "    'Duration': np.random.randint(1, 5, size=num_records),  # Duration in hours\n",
    "    'DayOfWeek': [random.choice(days_of_week) for _ in range(num_records)],\n",
    "    'IsHolidayOrEvent': [random.choice([0, 1]) for _ in range(num_records)],  # 0 = No, 1 = Yes\n",
    "    'Season': random.choices(['Winter', 'Spring', 'Summer', 'Fall'], k=num_records),\n",
    "    'IsWeekend': [1 if d in ['Saturday', 'Sunday'] else 0 for d in random.choices(days_of_week, k=num_records)],\n",
    "    'BookingStatus': random.choices(['Confirmed', 'Cancelled'], k=num_records)\n",
    "}"
   ]
  }
 ],
 "metadata": {
  "kernelspec": {
   "display_name": "Python 3",
   "language": "python",
   "name": "python3"
  },
  "language_info": {
   "codemirror_mode": {
    "name": "ipython",
    "version": 3
   },
   "file_extension": ".py",
   "mimetype": "text/x-python",
   "name": "python",
   "nbconvert_exporter": "python",
   "pygments_lexer": "ipython3",
   "version": "3.12.1"
  }
 },
 "nbformat": 4,
 "nbformat_minor": 2
}
